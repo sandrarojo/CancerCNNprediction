{
  "nbformat": 4,
  "nbformat_minor": 0,
  "metadata": {
    "colab": {
      "name": "Project 6: Breast Cancer Detection with CNN.ipynb",
      "provenance": [],
      "collapsed_sections": [],
      "toc_visible": true,
      "include_colab_link": true
    },
    "kernelspec": {
      "name": "python3",
      "display_name": "Python 3"
    }
  },
  "cells": [
    {
      "cell_type": "markdown",
      "metadata": {
        "id": "view-in-github",
        "colab_type": "text"
      },
      "source": [
        "<a href=\"https://colab.research.google.com/github/sandrarojo/CancerCNNprediction/blob/master/Project_6_Breast_Cancer_Detection_with_CNN.ipynb\" target=\"_parent\"><img src=\"https://colab.research.google.com/assets/colab-badge.svg\" alt=\"Open In Colab\"/></a>"
      ]
    },
    {
      "cell_type": "markdown",
      "metadata": {
        "id": "LWscUKL1O4Ca",
        "colab_type": "text"
      },
      "source": [
        "# Step 1: Installation and Setup"
      ]
    },
    {
      "cell_type": "code",
      "metadata": {
        "id": "-00UTPlEO7EV",
        "colab_type": "code",
        "colab": {
          "base_uri": "https://localhost:8080/",
          "height": 1000
        },
        "outputId": "e4206968-e887-48f5-85f9-e6b52ada9203"
      },
      "source": [
        "# Installing TensorFlow\n",
        "! pip install -q tensorflow-gpu"
      ],
      "execution_count": null,
      "outputs": [
        {
          "output_type": "stream",
          "text": [
            "Collecting tensorflow-gpu\n",
            "\u001b[?25l  Downloading https://files.pythonhosted.org/packages/25/44/47f0722aea081697143fbcf5d2aa60d1aee4aaacb5869aee2b568974777b/tensorflow_gpu-2.0.0-cp36-cp36m-manylinux2010_x86_64.whl (380.8MB)\n",
            "\u001b[K     |████████████████████████████████| 380.8MB 41kB/s \n",
            "\u001b[?25hCollecting tensorboard<2.1.0,>=2.0.0\n",
            "\u001b[?25l  Downloading https://files.pythonhosted.org/packages/d3/9e/a48cd34dd7b672ffc227b566f7d16d63c62c58b542d54efa45848c395dd4/tensorboard-2.0.1-py3-none-any.whl (3.8MB)\n",
            "\u001b[K     |████████████████████████████████| 3.8MB 49.9MB/s \n",
            "\u001b[?25hRequirement already satisfied: absl-py>=0.7.0 in /usr/local/lib/python3.6/dist-packages (from tensorflow-gpu) (0.8.1)\n",
            "Requirement already satisfied: wrapt>=1.11.1 in /usr/local/lib/python3.6/dist-packages (from tensorflow-gpu) (1.11.2)\n",
            "Requirement already satisfied: astor>=0.6.0 in /usr/local/lib/python3.6/dist-packages (from tensorflow-gpu) (0.8.0)\n",
            "Requirement already satisfied: six>=1.10.0 in /usr/local/lib/python3.6/dist-packages (from tensorflow-gpu) (1.12.0)\n",
            "Requirement already satisfied: grpcio>=1.8.6 in /usr/local/lib/python3.6/dist-packages (from tensorflow-gpu) (1.15.0)\n",
            "Requirement already satisfied: termcolor>=1.1.0 in /usr/local/lib/python3.6/dist-packages (from tensorflow-gpu) (1.1.0)\n",
            "Collecting tensorflow-estimator<2.1.0,>=2.0.0\n",
            "\u001b[?25l  Downloading https://files.pythonhosted.org/packages/fc/08/8b927337b7019c374719145d1dceba21a8bb909b93b1ad6f8fb7d22c1ca1/tensorflow_estimator-2.0.1-py2.py3-none-any.whl (449kB)\n",
            "\u001b[K     |████████████████████████████████| 450kB 46.1MB/s \n",
            "\u001b[?25hRequirement already satisfied: keras-applications>=1.0.8 in /usr/local/lib/python3.6/dist-packages (from tensorflow-gpu) (1.0.8)\n",
            "Requirement already satisfied: wheel>=0.26 in /usr/local/lib/python3.6/dist-packages (from tensorflow-gpu) (0.33.6)\n",
            "Requirement already satisfied: keras-preprocessing>=1.0.5 in /usr/local/lib/python3.6/dist-packages (from tensorflow-gpu) (1.1.0)\n",
            "Requirement already satisfied: google-pasta>=0.1.6 in /usr/local/lib/python3.6/dist-packages (from tensorflow-gpu) (0.1.8)\n",
            "Requirement already satisfied: numpy<2.0,>=1.16.0 in /usr/local/lib/python3.6/dist-packages (from tensorflow-gpu) (1.17.4)\n",
            "Requirement already satisfied: protobuf>=3.6.1 in /usr/local/lib/python3.6/dist-packages (from tensorflow-gpu) (3.10.0)\n",
            "Requirement already satisfied: gast==0.2.2 in /usr/local/lib/python3.6/dist-packages (from tensorflow-gpu) (0.2.2)\n",
            "Requirement already satisfied: opt-einsum>=2.3.2 in /usr/local/lib/python3.6/dist-packages (from tensorflow-gpu) (3.1.0)\n",
            "Collecting google-auth<2,>=1.6.3\n",
            "\u001b[?25l  Downloading https://files.pythonhosted.org/packages/7b/cb/786dc53d93494784935a62947643b48250b84a882474e714f9af5e1a1928/google_auth-1.7.1-py2.py3-none-any.whl (74kB)\n",
            "\u001b[K     |████████████████████████████████| 81kB 9.8MB/s \n",
            "\u001b[?25hRequirement already satisfied: setuptools>=41.0.0 in /usr/local/lib/python3.6/dist-packages (from tensorboard<2.1.0,>=2.0.0->tensorflow-gpu) (41.6.0)\n",
            "Requirement already satisfied: werkzeug>=0.11.15 in /usr/local/lib/python3.6/dist-packages (from tensorboard<2.1.0,>=2.0.0->tensorflow-gpu) (0.16.0)\n",
            "Requirement already satisfied: markdown>=2.6.8 in /usr/local/lib/python3.6/dist-packages (from tensorboard<2.1.0,>=2.0.0->tensorflow-gpu) (3.1.1)\n",
            "Requirement already satisfied: google-auth-oauthlib<0.5,>=0.4.1 in /usr/local/lib/python3.6/dist-packages (from tensorboard<2.1.0,>=2.0.0->tensorflow-gpu) (0.4.1)\n",
            "Requirement already satisfied: h5py in /usr/local/lib/python3.6/dist-packages (from keras-applications>=1.0.8->tensorflow-gpu) (2.8.0)\n",
            "Requirement already satisfied: rsa<4.1,>=3.1.4 in /usr/local/lib/python3.6/dist-packages (from google-auth<2,>=1.6.3->tensorboard<2.1.0,>=2.0.0->tensorflow-gpu) (4.0)\n",
            "Requirement already satisfied: pyasn1-modules>=0.2.1 in /usr/local/lib/python3.6/dist-packages (from google-auth<2,>=1.6.3->tensorboard<2.1.0,>=2.0.0->tensorflow-gpu) (0.2.7)\n",
            "Requirement already satisfied: cachetools<3.2,>=2.0.0 in /usr/local/lib/python3.6/dist-packages (from google-auth<2,>=1.6.3->tensorboard<2.1.0,>=2.0.0->tensorflow-gpu) (3.1.1)\n",
            "Requirement already satisfied: requests-oauthlib>=0.7.0 in /usr/local/lib/python3.6/dist-packages (from google-auth-oauthlib<0.5,>=0.4.1->tensorboard<2.1.0,>=2.0.0->tensorflow-gpu) (1.3.0)\n",
            "Requirement already satisfied: pyasn1>=0.1.3 in /usr/local/lib/python3.6/dist-packages (from rsa<4.1,>=3.1.4->google-auth<2,>=1.6.3->tensorboard<2.1.0,>=2.0.0->tensorflow-gpu) (0.4.7)\n",
            "Requirement already satisfied: requests>=2.0.0 in /usr/local/lib/python3.6/dist-packages (from requests-oauthlib>=0.7.0->google-auth-oauthlib<0.5,>=0.4.1->tensorboard<2.1.0,>=2.0.0->tensorflow-gpu) (2.21.0)\n",
            "Requirement already satisfied: oauthlib>=3.0.0 in /usr/local/lib/python3.6/dist-packages (from requests-oauthlib>=0.7.0->google-auth-oauthlib<0.5,>=0.4.1->tensorboard<2.1.0,>=2.0.0->tensorflow-gpu) (3.1.0)\n",
            "Requirement already satisfied: certifi>=2017.4.17 in /usr/local/lib/python3.6/dist-packages (from requests>=2.0.0->requests-oauthlib>=0.7.0->google-auth-oauthlib<0.5,>=0.4.1->tensorboard<2.1.0,>=2.0.0->tensorflow-gpu) (2019.9.11)\n",
            "Requirement already satisfied: chardet<3.1.0,>=3.0.2 in /usr/local/lib/python3.6/dist-packages (from requests>=2.0.0->requests-oauthlib>=0.7.0->google-auth-oauthlib<0.5,>=0.4.1->tensorboard<2.1.0,>=2.0.0->tensorflow-gpu) (3.0.4)\n",
            "Requirement already satisfied: idna<2.9,>=2.5 in /usr/local/lib/python3.6/dist-packages (from requests>=2.0.0->requests-oauthlib>=0.7.0->google-auth-oauthlib<0.5,>=0.4.1->tensorboard<2.1.0,>=2.0.0->tensorflow-gpu) (2.8)\n",
            "Requirement already satisfied: urllib3<1.25,>=1.21.1 in /usr/local/lib/python3.6/dist-packages (from requests>=2.0.0->requests-oauthlib>=0.7.0->google-auth-oauthlib<0.5,>=0.4.1->tensorboard<2.1.0,>=2.0.0->tensorflow-gpu) (1.24.3)\n",
            "\u001b[31mERROR: tensorflow 1.15.0 has requirement tensorboard<1.16.0,>=1.15.0, but you'll have tensorboard 2.0.1 which is incompatible.\u001b[0m\n",
            "\u001b[31mERROR: tensorflow 1.15.0 has requirement tensorflow-estimator==1.15.1, but you'll have tensorflow-estimator 2.0.1 which is incompatible.\u001b[0m\n",
            "\u001b[31mERROR: tensorboard 2.0.1 has requirement grpcio>=1.24.3, but you'll have grpcio 1.15.0 which is incompatible.\u001b[0m\n",
            "\u001b[31mERROR: google-colab 1.0.0 has requirement google-auth~=1.4.0, but you'll have google-auth 1.7.1 which is incompatible.\u001b[0m\n",
            "Installing collected packages: google-auth, tensorboard, tensorflow-estimator, tensorflow-gpu\n",
            "  Found existing installation: google-auth 1.4.2\n",
            "    Uninstalling google-auth-1.4.2:\n",
            "      Successfully uninstalled google-auth-1.4.2\n",
            "  Found existing installation: tensorboard 1.15.0\n",
            "    Uninstalling tensorboard-1.15.0:\n",
            "      Successfully uninstalled tensorboard-1.15.0\n",
            "  Found existing installation: tensorflow-estimator 1.15.1\n",
            "    Uninstalling tensorflow-estimator-1.15.1:\n",
            "      Successfully uninstalled tensorflow-estimator-1.15.1\n",
            "Successfully installed google-auth-1.7.1 tensorboard-2.0.1 tensorflow-estimator-2.0.1 tensorflow-gpu-2.0.0\n"
          ],
          "name": "stdout"
        },
        {
          "output_type": "display_data",
          "data": {
            "application/vnd.colab-display-data+json": {
              "pip_warning": {
                "packages": [
                  "google"
                ]
              }
            }
          },
          "metadata": {
            "tags": []
          }
        }
      ]
    },
    {
      "cell_type": "code",
      "metadata": {
        "id": "AN4-CoN6R26Q",
        "colab_type": "code",
        "colab": {}
      },
      "source": [
        "import tensorflow as tf"
      ],
      "execution_count": 1,
      "outputs": []
    },
    {
      "cell_type": "code",
      "metadata": {
        "id": "YHxkbJ0_R7I5",
        "colab_type": "code",
        "colab": {
          "base_uri": "https://localhost:8080/",
          "height": 34
        },
        "outputId": "4e1bef37-286b-4ea7-abbb-a7e5802e03e5"
      },
      "source": [
        "print(tf.__version__)"
      ],
      "execution_count": 2,
      "outputs": [
        {
          "output_type": "stream",
          "text": [
            "2.3.0\n"
          ],
          "name": "stdout"
        }
      ]
    },
    {
      "cell_type": "code",
      "metadata": {
        "id": "KdZ95y0ySEDZ",
        "colab_type": "code",
        "colab": {}
      },
      "source": [
        "import numpy as np\n",
        "import pandas as pd\n",
        "import matplotlib.pyplot as plt"
      ],
      "execution_count": 3,
      "outputs": []
    },
    {
      "cell_type": "markdown",
      "metadata": {
        "id": "4Hv68ajSSOME",
        "colab_type": "text"
      },
      "source": [
        "# Step 2: Data Preprocessing"
      ]
    },
    {
      "cell_type": "code",
      "metadata": {
        "id": "eD6fZ8zeSRYM",
        "colab_type": "code",
        "colab": {}
      },
      "source": [
        "from sklearn import datasets, metrics"
      ],
      "execution_count": 4,
      "outputs": []
    },
    {
      "cell_type": "code",
      "metadata": {
        "id": "N9DscVhWSpOQ",
        "colab_type": "code",
        "colab": {}
      },
      "source": [
        "# import the dataset\n",
        "cancer = datasets.load_breast_cancer()"
      ],
      "execution_count": 5,
      "outputs": []
    },
    {
      "cell_type": "code",
      "metadata": {
        "id": "QwotQpvVS4G-",
        "colab_type": "code",
        "colab": {
          "base_uri": "https://localhost:8080/",
          "height": 1000
        },
        "outputId": "1392751c-14f7-408f-dd32-c7a96eda1dd2"
      },
      "source": [
        "print(cancer.DESCR)"
      ],
      "execution_count": 6,
      "outputs": [
        {
          "output_type": "stream",
          "text": [
            ".. _breast_cancer_dataset:\n",
            "\n",
            "Breast cancer wisconsin (diagnostic) dataset\n",
            "--------------------------------------------\n",
            "\n",
            "**Data Set Characteristics:**\n",
            "\n",
            "    :Number of Instances: 569\n",
            "\n",
            "    :Number of Attributes: 30 numeric, predictive attributes and the class\n",
            "\n",
            "    :Attribute Information:\n",
            "        - radius (mean of distances from center to points on the perimeter)\n",
            "        - texture (standard deviation of gray-scale values)\n",
            "        - perimeter\n",
            "        - area\n",
            "        - smoothness (local variation in radius lengths)\n",
            "        - compactness (perimeter^2 / area - 1.0)\n",
            "        - concavity (severity of concave portions of the contour)\n",
            "        - concave points (number of concave portions of the contour)\n",
            "        - symmetry \n",
            "        - fractal dimension (\"coastline approximation\" - 1)\n",
            "\n",
            "        The mean, standard error, and \"worst\" or largest (mean of the three\n",
            "        largest values) of these features were computed for each image,\n",
            "        resulting in 30 features.  For instance, field 3 is Mean Radius, field\n",
            "        13 is Radius SE, field 23 is Worst Radius.\n",
            "\n",
            "        - class:\n",
            "                - WDBC-Malignant\n",
            "                - WDBC-Benign\n",
            "\n",
            "    :Summary Statistics:\n",
            "\n",
            "    ===================================== ====== ======\n",
            "                                           Min    Max\n",
            "    ===================================== ====== ======\n",
            "    radius (mean):                        6.981  28.11\n",
            "    texture (mean):                       9.71   39.28\n",
            "    perimeter (mean):                     43.79  188.5\n",
            "    area (mean):                          143.5  2501.0\n",
            "    smoothness (mean):                    0.053  0.163\n",
            "    compactness (mean):                   0.019  0.345\n",
            "    concavity (mean):                     0.0    0.427\n",
            "    concave points (mean):                0.0    0.201\n",
            "    symmetry (mean):                      0.106  0.304\n",
            "    fractal dimension (mean):             0.05   0.097\n",
            "    radius (standard error):              0.112  2.873\n",
            "    texture (standard error):             0.36   4.885\n",
            "    perimeter (standard error):           0.757  21.98\n",
            "    area (standard error):                6.802  542.2\n",
            "    smoothness (standard error):          0.002  0.031\n",
            "    compactness (standard error):         0.002  0.135\n",
            "    concavity (standard error):           0.0    0.396\n",
            "    concave points (standard error):      0.0    0.053\n",
            "    symmetry (standard error):            0.008  0.079\n",
            "    fractal dimension (standard error):   0.001  0.03\n",
            "    radius (worst):                       7.93   36.04\n",
            "    texture (worst):                      12.02  49.54\n",
            "    perimeter (worst):                    50.41  251.2\n",
            "    area (worst):                         185.2  4254.0\n",
            "    smoothness (worst):                   0.071  0.223\n",
            "    compactness (worst):                  0.027  1.058\n",
            "    concavity (worst):                    0.0    1.252\n",
            "    concave points (worst):               0.0    0.291\n",
            "    symmetry (worst):                     0.156  0.664\n",
            "    fractal dimension (worst):            0.055  0.208\n",
            "    ===================================== ====== ======\n",
            "\n",
            "    :Missing Attribute Values: None\n",
            "\n",
            "    :Class Distribution: 212 - Malignant, 357 - Benign\n",
            "\n",
            "    :Creator:  Dr. William H. Wolberg, W. Nick Street, Olvi L. Mangasarian\n",
            "\n",
            "    :Donor: Nick Street\n",
            "\n",
            "    :Date: November, 1995\n",
            "\n",
            "This is a copy of UCI ML Breast Cancer Wisconsin (Diagnostic) datasets.\n",
            "https://goo.gl/U2Uwz2\n",
            "\n",
            "Features are computed from a digitized image of a fine needle\n",
            "aspirate (FNA) of a breast mass.  They describe\n",
            "characteristics of the cell nuclei present in the image.\n",
            "\n",
            "Separating plane described above was obtained using\n",
            "Multisurface Method-Tree (MSM-T) [K. P. Bennett, \"Decision Tree\n",
            "Construction Via Linear Programming.\" Proceedings of the 4th\n",
            "Midwest Artificial Intelligence and Cognitive Science Society,\n",
            "pp. 97-101, 1992], a classification method which uses linear\n",
            "programming to construct a decision tree.  Relevant features\n",
            "were selected using an exhaustive search in the space of 1-4\n",
            "features and 1-3 separating planes.\n",
            "\n",
            "The actual linear program used to obtain the separating plane\n",
            "in the 3-dimensional space is that described in:\n",
            "[K. P. Bennett and O. L. Mangasarian: \"Robust Linear\n",
            "Programming Discrimination of Two Linearly Inseparable Sets\",\n",
            "Optimization Methods and Software 1, 1992, 23-34].\n",
            "\n",
            "This database is also available through the UW CS ftp server:\n",
            "\n",
            "ftp ftp.cs.wisc.edu\n",
            "cd math-prog/cpo-dataset/machine-learn/WDBC/\n",
            "\n",
            ".. topic:: References\n",
            "\n",
            "   - W.N. Street, W.H. Wolberg and O.L. Mangasarian. Nuclear feature extraction \n",
            "     for breast tumor diagnosis. IS&T/SPIE 1993 International Symposium on \n",
            "     Electronic Imaging: Science and Technology, volume 1905, pages 861-870,\n",
            "     San Jose, CA, 1993.\n",
            "   - O.L. Mangasarian, W.N. Street and W.H. Wolberg. Breast cancer diagnosis and \n",
            "     prognosis via linear programming. Operations Research, 43(4), pages 570-577, \n",
            "     July-August 1995.\n",
            "   - W.H. Wolberg, W.N. Street, and O.L. Mangasarian. Machine learning techniques\n",
            "     to diagnose breast cancer from fine-needle aspirates. Cancer Letters 77 (1994) \n",
            "     163-171.\n"
          ],
          "name": "stdout"
        }
      ]
    },
    {
      "cell_type": "code",
      "metadata": {
        "id": "V3rLMP8CTpAA",
        "colab_type": "code",
        "colab": {}
      },
      "source": [
        "# matrix of features\n",
        "x = pd.DataFrame(data = cancer.data, columns=cancer.feature_names)"
      ],
      "execution_count": 7,
      "outputs": []
    },
    {
      "cell_type": "code",
      "metadata": {
        "id": "Jv_DTbPAUOcd",
        "colab_type": "code",
        "colab": {
          "base_uri": "https://localhost:8080/",
          "height": 258
        },
        "outputId": "8d1f2b46-6b2f-49b1-92bb-c49c7b9792c7"
      },
      "source": [
        "x.head()"
      ],
      "execution_count": 8,
      "outputs": [
        {
          "output_type": "execute_result",
          "data": {
            "text/html": [
              "<div>\n",
              "<style scoped>\n",
              "    .dataframe tbody tr th:only-of-type {\n",
              "        vertical-align: middle;\n",
              "    }\n",
              "\n",
              "    .dataframe tbody tr th {\n",
              "        vertical-align: top;\n",
              "    }\n",
              "\n",
              "    .dataframe thead th {\n",
              "        text-align: right;\n",
              "    }\n",
              "</style>\n",
              "<table border=\"1\" class=\"dataframe\">\n",
              "  <thead>\n",
              "    <tr style=\"text-align: right;\">\n",
              "      <th></th>\n",
              "      <th>mean radius</th>\n",
              "      <th>mean texture</th>\n",
              "      <th>mean perimeter</th>\n",
              "      <th>mean area</th>\n",
              "      <th>mean smoothness</th>\n",
              "      <th>mean compactness</th>\n",
              "      <th>mean concavity</th>\n",
              "      <th>mean concave points</th>\n",
              "      <th>mean symmetry</th>\n",
              "      <th>mean fractal dimension</th>\n",
              "      <th>radius error</th>\n",
              "      <th>texture error</th>\n",
              "      <th>perimeter error</th>\n",
              "      <th>area error</th>\n",
              "      <th>smoothness error</th>\n",
              "      <th>compactness error</th>\n",
              "      <th>concavity error</th>\n",
              "      <th>concave points error</th>\n",
              "      <th>symmetry error</th>\n",
              "      <th>fractal dimension error</th>\n",
              "      <th>worst radius</th>\n",
              "      <th>worst texture</th>\n",
              "      <th>worst perimeter</th>\n",
              "      <th>worst area</th>\n",
              "      <th>worst smoothness</th>\n",
              "      <th>worst compactness</th>\n",
              "      <th>worst concavity</th>\n",
              "      <th>worst concave points</th>\n",
              "      <th>worst symmetry</th>\n",
              "      <th>worst fractal dimension</th>\n",
              "    </tr>\n",
              "  </thead>\n",
              "  <tbody>\n",
              "    <tr>\n",
              "      <th>0</th>\n",
              "      <td>17.99</td>\n",
              "      <td>10.38</td>\n",
              "      <td>122.80</td>\n",
              "      <td>1001.0</td>\n",
              "      <td>0.11840</td>\n",
              "      <td>0.27760</td>\n",
              "      <td>0.3001</td>\n",
              "      <td>0.14710</td>\n",
              "      <td>0.2419</td>\n",
              "      <td>0.07871</td>\n",
              "      <td>1.0950</td>\n",
              "      <td>0.9053</td>\n",
              "      <td>8.589</td>\n",
              "      <td>153.40</td>\n",
              "      <td>0.006399</td>\n",
              "      <td>0.04904</td>\n",
              "      <td>0.05373</td>\n",
              "      <td>0.01587</td>\n",
              "      <td>0.03003</td>\n",
              "      <td>0.006193</td>\n",
              "      <td>25.38</td>\n",
              "      <td>17.33</td>\n",
              "      <td>184.60</td>\n",
              "      <td>2019.0</td>\n",
              "      <td>0.1622</td>\n",
              "      <td>0.6656</td>\n",
              "      <td>0.7119</td>\n",
              "      <td>0.2654</td>\n",
              "      <td>0.4601</td>\n",
              "      <td>0.11890</td>\n",
              "    </tr>\n",
              "    <tr>\n",
              "      <th>1</th>\n",
              "      <td>20.57</td>\n",
              "      <td>17.77</td>\n",
              "      <td>132.90</td>\n",
              "      <td>1326.0</td>\n",
              "      <td>0.08474</td>\n",
              "      <td>0.07864</td>\n",
              "      <td>0.0869</td>\n",
              "      <td>0.07017</td>\n",
              "      <td>0.1812</td>\n",
              "      <td>0.05667</td>\n",
              "      <td>0.5435</td>\n",
              "      <td>0.7339</td>\n",
              "      <td>3.398</td>\n",
              "      <td>74.08</td>\n",
              "      <td>0.005225</td>\n",
              "      <td>0.01308</td>\n",
              "      <td>0.01860</td>\n",
              "      <td>0.01340</td>\n",
              "      <td>0.01389</td>\n",
              "      <td>0.003532</td>\n",
              "      <td>24.99</td>\n",
              "      <td>23.41</td>\n",
              "      <td>158.80</td>\n",
              "      <td>1956.0</td>\n",
              "      <td>0.1238</td>\n",
              "      <td>0.1866</td>\n",
              "      <td>0.2416</td>\n",
              "      <td>0.1860</td>\n",
              "      <td>0.2750</td>\n",
              "      <td>0.08902</td>\n",
              "    </tr>\n",
              "    <tr>\n",
              "      <th>2</th>\n",
              "      <td>19.69</td>\n",
              "      <td>21.25</td>\n",
              "      <td>130.00</td>\n",
              "      <td>1203.0</td>\n",
              "      <td>0.10960</td>\n",
              "      <td>0.15990</td>\n",
              "      <td>0.1974</td>\n",
              "      <td>0.12790</td>\n",
              "      <td>0.2069</td>\n",
              "      <td>0.05999</td>\n",
              "      <td>0.7456</td>\n",
              "      <td>0.7869</td>\n",
              "      <td>4.585</td>\n",
              "      <td>94.03</td>\n",
              "      <td>0.006150</td>\n",
              "      <td>0.04006</td>\n",
              "      <td>0.03832</td>\n",
              "      <td>0.02058</td>\n",
              "      <td>0.02250</td>\n",
              "      <td>0.004571</td>\n",
              "      <td>23.57</td>\n",
              "      <td>25.53</td>\n",
              "      <td>152.50</td>\n",
              "      <td>1709.0</td>\n",
              "      <td>0.1444</td>\n",
              "      <td>0.4245</td>\n",
              "      <td>0.4504</td>\n",
              "      <td>0.2430</td>\n",
              "      <td>0.3613</td>\n",
              "      <td>0.08758</td>\n",
              "    </tr>\n",
              "    <tr>\n",
              "      <th>3</th>\n",
              "      <td>11.42</td>\n",
              "      <td>20.38</td>\n",
              "      <td>77.58</td>\n",
              "      <td>386.1</td>\n",
              "      <td>0.14250</td>\n",
              "      <td>0.28390</td>\n",
              "      <td>0.2414</td>\n",
              "      <td>0.10520</td>\n",
              "      <td>0.2597</td>\n",
              "      <td>0.09744</td>\n",
              "      <td>0.4956</td>\n",
              "      <td>1.1560</td>\n",
              "      <td>3.445</td>\n",
              "      <td>27.23</td>\n",
              "      <td>0.009110</td>\n",
              "      <td>0.07458</td>\n",
              "      <td>0.05661</td>\n",
              "      <td>0.01867</td>\n",
              "      <td>0.05963</td>\n",
              "      <td>0.009208</td>\n",
              "      <td>14.91</td>\n",
              "      <td>26.50</td>\n",
              "      <td>98.87</td>\n",
              "      <td>567.7</td>\n",
              "      <td>0.2098</td>\n",
              "      <td>0.8663</td>\n",
              "      <td>0.6869</td>\n",
              "      <td>0.2575</td>\n",
              "      <td>0.6638</td>\n",
              "      <td>0.17300</td>\n",
              "    </tr>\n",
              "    <tr>\n",
              "      <th>4</th>\n",
              "      <td>20.29</td>\n",
              "      <td>14.34</td>\n",
              "      <td>135.10</td>\n",
              "      <td>1297.0</td>\n",
              "      <td>0.10030</td>\n",
              "      <td>0.13280</td>\n",
              "      <td>0.1980</td>\n",
              "      <td>0.10430</td>\n",
              "      <td>0.1809</td>\n",
              "      <td>0.05883</td>\n",
              "      <td>0.7572</td>\n",
              "      <td>0.7813</td>\n",
              "      <td>5.438</td>\n",
              "      <td>94.44</td>\n",
              "      <td>0.011490</td>\n",
              "      <td>0.02461</td>\n",
              "      <td>0.05688</td>\n",
              "      <td>0.01885</td>\n",
              "      <td>0.01756</td>\n",
              "      <td>0.005115</td>\n",
              "      <td>22.54</td>\n",
              "      <td>16.67</td>\n",
              "      <td>152.20</td>\n",
              "      <td>1575.0</td>\n",
              "      <td>0.1374</td>\n",
              "      <td>0.2050</td>\n",
              "      <td>0.4000</td>\n",
              "      <td>0.1625</td>\n",
              "      <td>0.2364</td>\n",
              "      <td>0.07678</td>\n",
              "    </tr>\n",
              "  </tbody>\n",
              "</table>\n",
              "</div>"
            ],
            "text/plain": [
              "   mean radius  mean texture  ...  worst symmetry  worst fractal dimension\n",
              "0        17.99         10.38  ...          0.4601                  0.11890\n",
              "1        20.57         17.77  ...          0.2750                  0.08902\n",
              "2        19.69         21.25  ...          0.3613                  0.08758\n",
              "3        11.42         20.38  ...          0.6638                  0.17300\n",
              "4        20.29         14.34  ...          0.2364                  0.07678\n",
              "\n",
              "[5 rows x 30 columns]"
            ]
          },
          "metadata": {
            "tags": []
          },
          "execution_count": 8
        }
      ]
    },
    {
      "cell_type": "code",
      "metadata": {
        "id": "R_FmU-jBVJca",
        "colab_type": "code",
        "colab": {
          "base_uri": "https://localhost:8080/",
          "height": 289
        },
        "outputId": "8ac90531-67b1-44a8-c0c2-632bd2bea685"
      },
      "source": [
        "# dependent variable\n",
        "y = cancer.target\n",
        "print(y)"
      ],
      "execution_count": 9,
      "outputs": [
        {
          "output_type": "stream",
          "text": [
            "[0 0 0 0 0 0 0 0 0 0 0 0 0 0 0 0 0 0 0 1 1 1 0 0 0 0 0 0 0 0 0 0 0 0 0 0 0\n",
            " 1 0 0 0 0 0 0 0 0 1 0 1 1 1 1 1 0 0 1 0 0 1 1 1 1 0 1 0 0 1 1 1 1 0 1 0 0\n",
            " 1 0 1 0 0 1 1 1 0 0 1 0 0 0 1 1 1 0 1 1 0 0 1 1 1 0 0 1 1 1 1 0 1 1 0 1 1\n",
            " 1 1 1 1 1 1 0 0 0 1 0 0 1 1 1 0 0 1 0 1 0 0 1 0 0 1 1 0 1 1 0 1 1 1 1 0 1\n",
            " 1 1 1 1 1 1 1 1 0 1 1 1 1 0 0 1 0 1 1 0 0 1 1 0 0 1 1 1 1 0 1 1 0 0 0 1 0\n",
            " 1 0 1 1 1 0 1 1 0 0 1 0 0 0 0 1 0 0 0 1 0 1 0 1 1 0 1 0 0 0 0 1 1 0 0 1 1\n",
            " 1 0 1 1 1 1 1 0 0 1 1 0 1 1 0 0 1 0 1 1 1 1 0 1 1 1 1 1 0 1 0 0 0 0 0 0 0\n",
            " 0 0 0 0 0 0 0 1 1 1 1 1 1 0 1 0 1 1 0 1 1 0 1 0 0 1 1 1 1 1 1 1 1 1 1 1 1\n",
            " 1 0 1 1 0 1 0 1 1 1 1 1 1 1 1 1 1 1 1 1 1 0 1 1 1 0 1 0 1 1 1 1 0 0 0 1 1\n",
            " 1 1 0 1 0 1 0 1 1 1 0 1 1 1 1 1 1 1 0 0 0 1 1 1 1 1 1 1 1 1 1 1 0 0 1 0 0\n",
            " 0 1 0 0 1 1 1 1 1 0 1 1 1 1 1 0 1 1 1 0 1 1 0 0 1 1 1 1 1 1 0 1 1 1 1 1 1\n",
            " 1 0 1 1 1 1 1 0 1 1 0 1 1 1 1 1 1 1 1 1 1 1 1 0 1 0 0 1 0 1 1 1 1 1 0 1 1\n",
            " 0 1 0 1 1 0 1 0 1 1 1 1 1 1 1 1 0 0 1 1 1 1 1 1 0 1 1 1 1 1 1 1 1 1 1 0 1\n",
            " 1 1 1 1 1 1 0 1 0 1 1 0 1 1 1 1 1 0 0 1 0 1 0 1 1 1 1 1 0 1 1 0 1 0 1 0 0\n",
            " 1 1 1 0 1 1 1 1 1 1 1 1 1 1 1 0 1 0 0 1 1 1 1 1 1 1 1 1 1 1 1 1 1 1 1 1 1\n",
            " 1 1 1 1 1 1 1 0 0 0 0 0 0 1]\n"
          ],
          "name": "stdout"
        }
      ]
    },
    {
      "cell_type": "code",
      "metadata": {
        "id": "gUQ09wiwVU6S",
        "colab_type": "code",
        "colab": {
          "base_uri": "https://localhost:8080/",
          "height": 34
        },
        "outputId": "2c65fab7-2532-4795-8b9c-acad6f1c30bc"
      },
      "source": [
        "cancer.target_names"
      ],
      "execution_count": 10,
      "outputs": [
        {
          "output_type": "execute_result",
          "data": {
            "text/plain": [
              "array(['malignant', 'benign'], dtype='<U9')"
            ]
          },
          "metadata": {
            "tags": []
          },
          "execution_count": 10
        }
      ]
    },
    {
      "cell_type": "code",
      "metadata": {
        "id": "4xROtLSXVc4o",
        "colab_type": "code",
        "colab": {
          "base_uri": "https://localhost:8080/",
          "height": 34
        },
        "outputId": "e3380261-3b11-4a3d-9d1f-c7241811a7a6"
      },
      "source": [
        "x.shape, y.shape"
      ],
      "execution_count": 11,
      "outputs": [
        {
          "output_type": "execute_result",
          "data": {
            "text/plain": [
              "((569, 30), (569,))"
            ]
          },
          "metadata": {
            "tags": []
          },
          "execution_count": 11
        }
      ]
    },
    {
      "cell_type": "code",
      "metadata": {
        "id": "7ks7XT_3VvaB",
        "colab_type": "code",
        "colab": {}
      },
      "source": [
        "# splitting the dataset in train and test set\n",
        "from sklearn.model_selection import train_test_split\n",
        "x_train, x_test, y_train, y_test = train_test_split(x, y, test_size = 0.2, random_state = 0)"
      ],
      "execution_count": 12,
      "outputs": []
    },
    {
      "cell_type": "code",
      "metadata": {
        "id": "Iu13Nc-KWWsx",
        "colab_type": "code",
        "colab": {
          "base_uri": "https://localhost:8080/",
          "height": 34
        },
        "outputId": "3af15d9e-e00e-4798-ac60-bc9fa8dd4e8a"
      },
      "source": [
        "x_train.shape, x_test.shape"
      ],
      "execution_count": 13,
      "outputs": [
        {
          "output_type": "execute_result",
          "data": {
            "text/plain": [
              "((455, 30), (114, 30))"
            ]
          },
          "metadata": {
            "tags": []
          },
          "execution_count": 13
        }
      ]
    },
    {
      "cell_type": "code",
      "metadata": {
        "id": "XjonFEmlWh46",
        "colab_type": "code",
        "colab": {}
      },
      "source": [
        "# feature scaling\n",
        "from sklearn.preprocessing import StandardScaler\n",
        "sc = StandardScaler()\n",
        "x_train = sc.fit_transform(x_train)\n",
        "x_test = sc.transform(x_test)"
      ],
      "execution_count": 14,
      "outputs": []
    },
    {
      "cell_type": "code",
      "metadata": {
        "id": "IxnvnXCZX8HM",
        "colab_type": "code",
        "colab": {
          "base_uri": "https://localhost:8080/",
          "height": 238
        },
        "outputId": "43848539-8510-40f2-e14a-1c369f4cff08"
      },
      "source": [
        "x_train"
      ],
      "execution_count": 15,
      "outputs": [
        {
          "output_type": "execute_result",
          "data": {
            "text/plain": [
              "array([[-1.15036482, -0.39064196, -1.12855021, ..., -0.75798367,\n",
              "        -0.01614761, -0.38503402],\n",
              "       [-0.93798972,  0.68051405, -0.94820146, ..., -0.60687023,\n",
              "         0.09669004, -0.38615797],\n",
              "       [ 0.574121  , -1.03333557,  0.51394098, ..., -0.02371948,\n",
              "        -0.20050207, -0.75144254],\n",
              "       ...,\n",
              "       [-1.32422924, -0.20048168, -1.31754581, ..., -0.97974953,\n",
              "        -0.71542314, -0.11978123],\n",
              "       [-1.24380987, -0.2245526 , -1.28007609, ..., -1.75401433,\n",
              "        -1.58157125, -1.00601779],\n",
              "       [-0.73694129,  1.14989702, -0.71226578, ..., -0.27460457,\n",
              "        -1.25895095,  0.21515662]])"
            ]
          },
          "metadata": {
            "tags": []
          },
          "execution_count": 15
        }
      ]
    },
    {
      "cell_type": "code",
      "metadata": {
        "id": "uJ4izo7BX_eg",
        "colab_type": "code",
        "colab": {
          "base_uri": "https://localhost:8080/",
          "height": 34
        },
        "outputId": "1d04d867-e180-4080-e63a-034effd9ba3c"
      },
      "source": [
        "x_train.shape, x_test.shape"
      ],
      "execution_count": 16,
      "outputs": [
        {
          "output_type": "execute_result",
          "data": {
            "text/plain": [
              "((455, 30), (114, 30))"
            ]
          },
          "metadata": {
            "tags": []
          },
          "execution_count": 16
        }
      ]
    },
    {
      "cell_type": "code",
      "metadata": {
        "id": "DXd9L6K-YQek",
        "colab_type": "code",
        "colab": {}
      },
      "source": [
        "x_train = x_train.reshape(455, 30, 1)\n",
        "x_test = x_test.reshape(114, 30, 1)\n"
      ],
      "execution_count": 17,
      "outputs": []
    },
    {
      "cell_type": "code",
      "metadata": {
        "id": "j3rLp6asYcks",
        "colab_type": "code",
        "colab": {
          "base_uri": "https://localhost:8080/",
          "height": 34
        },
        "outputId": "c13126a7-dc1c-4daa-f9d4-781cff00cc02"
      },
      "source": [
        "x_train.shape, x_test.shape"
      ],
      "execution_count": 18,
      "outputs": [
        {
          "output_type": "execute_result",
          "data": {
            "text/plain": [
              "((455, 30, 1), (114, 30, 1))"
            ]
          },
          "metadata": {
            "tags": []
          },
          "execution_count": 18
        }
      ]
    },
    {
      "cell_type": "markdown",
      "metadata": {
        "id": "PNx5AHjNdKZx",
        "colab_type": "text"
      },
      "source": [
        "# Step 3: Building the model"
      ]
    },
    {
      "cell_type": "code",
      "metadata": {
        "id": "h954pOcmdPlh",
        "colab_type": "code",
        "colab": {}
      },
      "source": [
        "# define an object\n",
        "model = tf.keras.models.Sequential()"
      ],
      "execution_count": 19,
      "outputs": []
    },
    {
      "cell_type": "code",
      "metadata": {
        "id": "_Q895bFJdl5p",
        "colab_type": "code",
        "colab": {}
      },
      "source": [
        "# First CNN layer\n",
        "model.add(tf.keras.layers.Conv1D(filters=32, kernel_size=2, activation='relu', input_shape = (30, 1)))\n",
        "\n",
        "# batch normalization\n",
        "model.add(tf.keras.layers.BatchNormalization())\n",
        "\n",
        "# dropout layer\n",
        "model.add(tf.keras.layers.Dropout(0.2))"
      ],
      "execution_count": 20,
      "outputs": []
    },
    {
      "cell_type": "code",
      "metadata": {
        "id": "rwtDz7_DfpCu",
        "colab_type": "code",
        "colab": {}
      },
      "source": [
        "# second CNN layer\n",
        "model.add(tf.keras.layers.Conv1D(filters=64, kernel_size=2, activation='relu'))\n",
        "\n",
        "# batch normalization\n",
        "model.add(tf.keras.layers.BatchNormalization())\n",
        "\n",
        "# dropout layer\n",
        "model.add(tf.keras.layers.Dropout(0.4))"
      ],
      "execution_count": 21,
      "outputs": []
    },
    {
      "cell_type": "code",
      "metadata": {
        "id": "vmvK-_Nof4rA",
        "colab_type": "code",
        "colab": {}
      },
      "source": [
        "# flatten layer\n",
        "model.add(tf.keras.layers.Flatten())"
      ],
      "execution_count": 22,
      "outputs": []
    },
    {
      "cell_type": "code",
      "metadata": {
        "id": "jZVh2Fhmf__v",
        "colab_type": "code",
        "colab": {}
      },
      "source": [
        "# dense layer\n",
        "model.add(tf.keras.layers.Dense(units=64, activation='relu'))\n",
        "\n",
        "# output layer\n",
        "model.add(tf.keras.layers.Dense(units=1, activation='sigmoid'))\n"
      ],
      "execution_count": 23,
      "outputs": []
    },
    {
      "cell_type": "code",
      "metadata": {
        "id": "BNylJnUggm1K",
        "colab_type": "code",
        "colab": {
          "base_uri": "https://localhost:8080/",
          "height": 459
        },
        "outputId": "b1d506f2-b59f-4619-a144-99b25badfe9c"
      },
      "source": [
        "model.summary()"
      ],
      "execution_count": 24,
      "outputs": [
        {
          "output_type": "stream",
          "text": [
            "Model: \"sequential\"\n",
            "_________________________________________________________________\n",
            "Layer (type)                 Output Shape              Param #   \n",
            "=================================================================\n",
            "conv1d (Conv1D)              (None, 29, 32)            96        \n",
            "_________________________________________________________________\n",
            "batch_normalization (BatchNo (None, 29, 32)            128       \n",
            "_________________________________________________________________\n",
            "dropout (Dropout)            (None, 29, 32)            0         \n",
            "_________________________________________________________________\n",
            "conv1d_1 (Conv1D)            (None, 28, 64)            4160      \n",
            "_________________________________________________________________\n",
            "batch_normalization_1 (Batch (None, 28, 64)            256       \n",
            "_________________________________________________________________\n",
            "dropout_1 (Dropout)          (None, 28, 64)            0         \n",
            "_________________________________________________________________\n",
            "flatten (Flatten)            (None, 1792)              0         \n",
            "_________________________________________________________________\n",
            "dense (Dense)                (None, 64)                114752    \n",
            "_________________________________________________________________\n",
            "dense_1 (Dense)              (None, 1)                 65        \n",
            "=================================================================\n",
            "Total params: 119,457\n",
            "Trainable params: 119,265\n",
            "Non-trainable params: 192\n",
            "_________________________________________________________________\n"
          ],
          "name": "stdout"
        }
      ]
    },
    {
      "cell_type": "code",
      "metadata": {
        "id": "nUehDfmWgxKT",
        "colab_type": "code",
        "colab": {}
      },
      "source": [
        "# compile model\n",
        "\n",
        "opt = tf.keras.optimizers.Adam(learning_rate=0.00005)\n",
        "\n",
        "model.compile(optimizer=opt, loss='binary_crossentropy', metrics=['accuracy'])"
      ],
      "execution_count": 25,
      "outputs": []
    },
    {
      "cell_type": "markdown",
      "metadata": {
        "id": "azeGHK4Eh6oi",
        "colab_type": "text"
      },
      "source": [
        "# Step 4: Training the model"
      ]
    },
    {
      "cell_type": "code",
      "metadata": {
        "id": "YTTssFtipPDw",
        "colab_type": "code",
        "colab": {
          "base_uri": "https://localhost:8080/",
          "height": 1000
        },
        "outputId": "df33f541-7354-417f-dbc3-afc767f1860f"
      },
      "source": [
        "history =  model.fit(x_train, y_train, epochs=50, validation_data=(x_test, y_test))"
      ],
      "execution_count": 26,
      "outputs": [
        {
          "output_type": "stream",
          "text": [
            "Epoch 1/50\n",
            "15/15 [==============================] - 0s 21ms/step - loss: 0.8452 - accuracy: 0.5341 - val_loss: 0.6648 - val_accuracy: 0.7281\n",
            "Epoch 2/50\n",
            "15/15 [==============================] - 0s 8ms/step - loss: 0.4587 - accuracy: 0.7714 - val_loss: 0.6265 - val_accuracy: 0.8684\n",
            "Epoch 3/50\n",
            "15/15 [==============================] - 0s 8ms/step - loss: 0.3387 - accuracy: 0.8549 - val_loss: 0.5871 - val_accuracy: 0.9035\n",
            "Epoch 4/50\n",
            "15/15 [==============================] - 0s 7ms/step - loss: 0.2723 - accuracy: 0.8879 - val_loss: 0.5509 - val_accuracy: 0.9123\n",
            "Epoch 5/50\n",
            "15/15 [==============================] - 0s 7ms/step - loss: 0.2270 - accuracy: 0.9209 - val_loss: 0.5174 - val_accuracy: 0.9035\n",
            "Epoch 6/50\n",
            "15/15 [==============================] - 0s 7ms/step - loss: 0.2050 - accuracy: 0.9165 - val_loss: 0.4847 - val_accuracy: 0.8772\n",
            "Epoch 7/50\n",
            "15/15 [==============================] - 0s 8ms/step - loss: 0.1840 - accuracy: 0.9407 - val_loss: 0.4551 - val_accuracy: 0.8333\n",
            "Epoch 8/50\n",
            "15/15 [==============================] - 0s 8ms/step - loss: 0.1863 - accuracy: 0.9231 - val_loss: 0.4276 - val_accuracy: 0.8246\n",
            "Epoch 9/50\n",
            "15/15 [==============================] - 0s 7ms/step - loss: 0.1641 - accuracy: 0.9451 - val_loss: 0.4032 - val_accuracy: 0.8246\n",
            "Epoch 10/50\n",
            "15/15 [==============================] - 0s 7ms/step - loss: 0.1440 - accuracy: 0.9363 - val_loss: 0.3798 - val_accuracy: 0.8246\n",
            "Epoch 11/50\n",
            "15/15 [==============================] - 0s 8ms/step - loss: 0.1443 - accuracy: 0.9451 - val_loss: 0.3597 - val_accuracy: 0.8246\n",
            "Epoch 12/50\n",
            "15/15 [==============================] - 0s 7ms/step - loss: 0.1311 - accuracy: 0.9516 - val_loss: 0.3360 - val_accuracy: 0.8421\n",
            "Epoch 13/50\n",
            "15/15 [==============================] - 0s 7ms/step - loss: 0.1148 - accuracy: 0.9582 - val_loss: 0.3160 - val_accuracy: 0.8509\n",
            "Epoch 14/50\n",
            "15/15 [==============================] - 0s 7ms/step - loss: 0.1195 - accuracy: 0.9582 - val_loss: 0.2980 - val_accuracy: 0.8596\n",
            "Epoch 15/50\n",
            "15/15 [==============================] - 0s 7ms/step - loss: 0.1016 - accuracy: 0.9626 - val_loss: 0.2806 - val_accuracy: 0.8860\n",
            "Epoch 16/50\n",
            "15/15 [==============================] - 0s 7ms/step - loss: 0.1102 - accuracy: 0.9626 - val_loss: 0.2627 - val_accuracy: 0.9035\n",
            "Epoch 17/50\n",
            "15/15 [==============================] - 0s 8ms/step - loss: 0.1139 - accuracy: 0.9560 - val_loss: 0.2489 - val_accuracy: 0.9035\n",
            "Epoch 18/50\n",
            "15/15 [==============================] - 0s 7ms/step - loss: 0.1142 - accuracy: 0.9626 - val_loss: 0.2382 - val_accuracy: 0.9035\n",
            "Epoch 19/50\n",
            "15/15 [==============================] - 0s 7ms/step - loss: 0.0997 - accuracy: 0.9692 - val_loss: 0.2227 - val_accuracy: 0.9211\n",
            "Epoch 20/50\n",
            "15/15 [==============================] - 0s 7ms/step - loss: 0.0926 - accuracy: 0.9582 - val_loss: 0.2095 - val_accuracy: 0.9211\n",
            "Epoch 21/50\n",
            "15/15 [==============================] - 0s 7ms/step - loss: 0.0909 - accuracy: 0.9626 - val_loss: 0.1979 - val_accuracy: 0.9298\n",
            "Epoch 22/50\n",
            "15/15 [==============================] - 0s 7ms/step - loss: 0.1073 - accuracy: 0.9648 - val_loss: 0.1925 - val_accuracy: 0.9298\n",
            "Epoch 23/50\n",
            "15/15 [==============================] - 0s 7ms/step - loss: 0.0905 - accuracy: 0.9648 - val_loss: 0.1828 - val_accuracy: 0.9386\n",
            "Epoch 24/50\n",
            "15/15 [==============================] - 0s 7ms/step - loss: 0.0897 - accuracy: 0.9626 - val_loss: 0.1706 - val_accuracy: 0.9474\n",
            "Epoch 25/50\n",
            "15/15 [==============================] - 0s 8ms/step - loss: 0.0953 - accuracy: 0.9692 - val_loss: 0.1626 - val_accuracy: 0.9474\n",
            "Epoch 26/50\n",
            "15/15 [==============================] - 0s 7ms/step - loss: 0.0915 - accuracy: 0.9604 - val_loss: 0.1545 - val_accuracy: 0.9474\n",
            "Epoch 27/50\n",
            "15/15 [==============================] - 0s 9ms/step - loss: 0.0826 - accuracy: 0.9692 - val_loss: 0.1479 - val_accuracy: 0.9474\n",
            "Epoch 28/50\n",
            "15/15 [==============================] - 0s 7ms/step - loss: 0.0669 - accuracy: 0.9824 - val_loss: 0.1427 - val_accuracy: 0.9474\n",
            "Epoch 29/50\n",
            "15/15 [==============================] - 0s 7ms/step - loss: 0.0863 - accuracy: 0.9670 - val_loss: 0.1385 - val_accuracy: 0.9474\n",
            "Epoch 30/50\n",
            "15/15 [==============================] - 0s 7ms/step - loss: 0.0837 - accuracy: 0.9736 - val_loss: 0.1317 - val_accuracy: 0.9474\n",
            "Epoch 31/50\n",
            "15/15 [==============================] - 0s 7ms/step - loss: 0.0659 - accuracy: 0.9780 - val_loss: 0.1279 - val_accuracy: 0.9474\n",
            "Epoch 32/50\n",
            "15/15 [==============================] - 0s 8ms/step - loss: 0.0871 - accuracy: 0.9780 - val_loss: 0.1230 - val_accuracy: 0.9474\n",
            "Epoch 33/50\n",
            "15/15 [==============================] - 0s 8ms/step - loss: 0.0763 - accuracy: 0.9714 - val_loss: 0.1181 - val_accuracy: 0.9474\n",
            "Epoch 34/50\n",
            "15/15 [==============================] - 0s 7ms/step - loss: 0.0745 - accuracy: 0.9758 - val_loss: 0.1140 - val_accuracy: 0.9474\n",
            "Epoch 35/50\n",
            "15/15 [==============================] - 0s 7ms/step - loss: 0.0840 - accuracy: 0.9714 - val_loss: 0.1123 - val_accuracy: 0.9474\n",
            "Epoch 36/50\n",
            "15/15 [==============================] - 0s 7ms/step - loss: 0.0758 - accuracy: 0.9714 - val_loss: 0.1092 - val_accuracy: 0.9474\n",
            "Epoch 37/50\n",
            "15/15 [==============================] - 0s 8ms/step - loss: 0.0633 - accuracy: 0.9824 - val_loss: 0.1059 - val_accuracy: 0.9561\n",
            "Epoch 38/50\n",
            "15/15 [==============================] - 0s 7ms/step - loss: 0.0737 - accuracy: 0.9714 - val_loss: 0.1074 - val_accuracy: 0.9561\n",
            "Epoch 39/50\n",
            "15/15 [==============================] - 0s 7ms/step - loss: 0.0780 - accuracy: 0.9780 - val_loss: 0.1057 - val_accuracy: 0.9561\n",
            "Epoch 40/50\n",
            "15/15 [==============================] - 0s 8ms/step - loss: 0.0619 - accuracy: 0.9846 - val_loss: 0.1028 - val_accuracy: 0.9561\n",
            "Epoch 41/50\n",
            "15/15 [==============================] - 0s 8ms/step - loss: 0.0685 - accuracy: 0.9802 - val_loss: 0.0995 - val_accuracy: 0.9561\n",
            "Epoch 42/50\n",
            "15/15 [==============================] - 0s 7ms/step - loss: 0.0567 - accuracy: 0.9846 - val_loss: 0.0981 - val_accuracy: 0.9561\n",
            "Epoch 43/50\n",
            "15/15 [==============================] - 0s 7ms/step - loss: 0.0681 - accuracy: 0.9670 - val_loss: 0.0967 - val_accuracy: 0.9561\n",
            "Epoch 44/50\n",
            "15/15 [==============================] - 0s 8ms/step - loss: 0.0576 - accuracy: 0.9780 - val_loss: 0.0956 - val_accuracy: 0.9649\n",
            "Epoch 45/50\n",
            "15/15 [==============================] - 0s 7ms/step - loss: 0.0487 - accuracy: 0.9846 - val_loss: 0.0938 - val_accuracy: 0.9649\n",
            "Epoch 46/50\n",
            "15/15 [==============================] - 0s 7ms/step - loss: 0.0725 - accuracy: 0.9758 - val_loss: 0.0924 - val_accuracy: 0.9649\n",
            "Epoch 47/50\n",
            "15/15 [==============================] - 0s 7ms/step - loss: 0.0566 - accuracy: 0.9824 - val_loss: 0.0922 - val_accuracy: 0.9649\n",
            "Epoch 48/50\n",
            "15/15 [==============================] - 0s 7ms/step - loss: 0.0669 - accuracy: 0.9736 - val_loss: 0.0900 - val_accuracy: 0.9649\n",
            "Epoch 49/50\n",
            "15/15 [==============================] - 0s 7ms/step - loss: 0.0677 - accuracy: 0.9714 - val_loss: 0.0908 - val_accuracy: 0.9649\n",
            "Epoch 50/50\n",
            "15/15 [==============================] - 0s 7ms/step - loss: 0.0555 - accuracy: 0.9802 - val_loss: 0.0924 - val_accuracy: 0.9649\n"
          ],
          "name": "stdout"
        }
      ]
    },
    {
      "cell_type": "markdown",
      "metadata": {
        "id": "bTbu2usVp82d",
        "colab_type": "text"
      },
      "source": [
        "# Step 5: Model Prediction"
      ]
    },
    {
      "cell_type": "code",
      "metadata": {
        "id": "xExs4qhLp_t2",
        "colab_type": "code",
        "colab": {
          "base_uri": "https://localhost:8080/",
          "height": 88
        },
        "outputId": "9e802935-295b-46f9-a1b7-3bc4a9016deb"
      },
      "source": [
        "y_pred = model.predict_classes(x_test)"
      ],
      "execution_count": 27,
      "outputs": [
        {
          "output_type": "stream",
          "text": [
            "WARNING:tensorflow:From <ipython-input-27-bae1a118294d>:1: Sequential.predict_classes (from tensorflow.python.keras.engine.sequential) is deprecated and will be removed after 2021-01-01.\n",
            "Instructions for updating:\n",
            "Please use instead:* `np.argmax(model.predict(x), axis=-1)`,   if your model does multi-class classification   (e.g. if it uses a `softmax` last-layer activation).* `(model.predict(x) > 0.5).astype(\"int32\")`,   if your model does binary classification   (e.g. if it uses a `sigmoid` last-layer activation).\n"
          ],
          "name": "stdout"
        }
      ]
    },
    {
      "cell_type": "code",
      "metadata": {
        "id": "WIXY-w3VqGG7",
        "colab_type": "code",
        "colab": {
          "base_uri": "https://localhost:8080/",
          "height": 68
        },
        "outputId": "9e337438-506b-4c6a-ab5f-d30f7d89905d"
      },
      "source": [
        "print(y_pred[12]), print(y_test[12])"
      ],
      "execution_count": 28,
      "outputs": [
        {
          "output_type": "stream",
          "text": [
            "[1]\n",
            "1\n"
          ],
          "name": "stdout"
        },
        {
          "output_type": "execute_result",
          "data": {
            "text/plain": [
              "(None, None)"
            ]
          },
          "metadata": {
            "tags": []
          },
          "execution_count": 28
        }
      ]
    },
    {
      "cell_type": "code",
      "metadata": {
        "id": "qmxh0d9GqeZF",
        "colab_type": "code",
        "colab": {
          "base_uri": "https://localhost:8080/",
          "height": 34
        },
        "outputId": "85eb5cff-3bb8-445a-d9ce-1612e64ad8fd"
      },
      "source": [
        "cancer.target_names"
      ],
      "execution_count": 29,
      "outputs": [
        {
          "output_type": "execute_result",
          "data": {
            "text/plain": [
              "array(['malignant', 'benign'], dtype='<U9')"
            ]
          },
          "metadata": {
            "tags": []
          },
          "execution_count": 29
        }
      ]
    },
    {
      "cell_type": "code",
      "metadata": {
        "id": "oBfs8YhxqoaT",
        "colab_type": "code",
        "colab": {
          "base_uri": "https://localhost:8080/",
          "height": 51
        },
        "outputId": "349f233b-a75b-4b25-e319-3fadc5b5241f"
      },
      "source": [
        "# confusion matrix\n",
        "from sklearn.metrics import confusion_matrix, accuracy_score\n",
        "cm = confusion_matrix(y_test, y_pred)\n",
        "print(cm)"
      ],
      "execution_count": 30,
      "outputs": [
        {
          "output_type": "stream",
          "text": [
            "[[43  4]\n",
            " [ 0 67]]\n"
          ],
          "name": "stdout"
        }
      ]
    },
    {
      "cell_type": "code",
      "metadata": {
        "id": "I2UVJTIkq_Vb",
        "colab_type": "code",
        "colab": {
          "base_uri": "https://localhost:8080/",
          "height": 34
        },
        "outputId": "e6e9973a-0893-4659-d913-b770c229b73b"
      },
      "source": [
        "acc_cm = accuracy_score(y_test, y_pred)\n",
        "print(acc_cm)"
      ],
      "execution_count": 31,
      "outputs": [
        {
          "output_type": "stream",
          "text": [
            "0.9649122807017544\n"
          ],
          "name": "stdout"
        }
      ]
    },
    {
      "cell_type": "markdown",
      "metadata": {
        "id": "6IwcFfwwrhez",
        "colab_type": "text"
      },
      "source": [
        "# Stpe 6: Learning curve"
      ]
    },
    {
      "cell_type": "code",
      "metadata": {
        "id": "ZESGUHumrkzy",
        "colab_type": "code",
        "colab": {}
      },
      "source": [
        "def learning_curve(history, epoch):\n",
        "\n",
        "  # training vs validation accuracy\n",
        "  epoch_range = range(1, epoch+1)\n",
        "  plt.plot(epoch_range, history.history['accuracy'])\n",
        "  plt.plot(epoch_range, history.history['val_accuracy'])\n",
        "  plt.title('Model Accuracy')\n",
        "  plt.ylabel('Accuracy')\n",
        "  plt.xlabel('Epoch')\n",
        "  plt.legend(['Train', 'val'], loc='upper left')\n",
        "  plt.show()\n",
        "\n",
        "  # training vs validation loss\n",
        "  plt.plot(epoch_range, history.history['loss'])\n",
        "  plt.plot(epoch_range, history.history['val_loss'])\n",
        "  plt.title('Model Loss')\n",
        "  plt.ylabel('Loss')\n",
        "  plt.xlabel('Epoch')\n",
        "  plt.legend(['Train', 'val'], loc='upper left')\n",
        "  plt.show()"
      ],
      "execution_count": 32,
      "outputs": []
    },
    {
      "cell_type": "code",
      "metadata": {
        "id": "UsPtTcKVrzMi",
        "colab_type": "code",
        "colab": {
          "base_uri": "https://localhost:8080/",
          "height": 573
        },
        "outputId": "94e8d9b5-7a50-4a45-df90-56e1172d6517"
      },
      "source": [
        "learning_curve(history, 50)"
      ],
      "execution_count": 33,
      "outputs": [
        {
          "output_type": "display_data",
          "data": {
            "image/png": "[encoded data removed]",
            "text/plain": [
              "<Figure size 432x288 with 1 Axes>"
            ]
          },
          "metadata": {
            "tags": [],
            "needs_background": "light"
          }
        },
        {
          "output_type": "display_data",
          "data": {
            "image/png": "[encoded data removed]",
            "text/plain": [
              "<Figure size 432x288 with 1 Axes>"
            ]
          },
          "metadata": {
            "tags": [],
            "needs_background": "light"
          }
        }
      ]
    }
  ]
}